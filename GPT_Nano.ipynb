{
 "cells": [
  {
   "attachments": {},
   "cell_type": "markdown",
   "metadata": {},
   "source": [
    "## GPT Nano"
   ]
  },
  {
   "cell_type": "code",
   "execution_count": 114,
   "metadata": {},
   "outputs": [],
   "source": [
    "#imports\n",
    "import torch\n",
    "import torch.nn as nn\n",
    "from torch.nn import functional as F"
   ]
  },
  {
   "cell_type": "code",
   "execution_count": 115,
   "metadata": {},
   "outputs": [],
   "source": [
    "#download dataset\n",
    "\n",
    "#!wget https://raw.githubusercontent.com/karpathy/char-rnn/master/data/tinyshakespeare/input.txt"
   ]
  },
  {
   "cell_type": "code",
   "execution_count": 116,
   "metadata": {},
   "outputs": [],
   "source": [
    "with open('input.txt', 'r', encoding='utf-8') as f:\n",
    "    text = f.read()"
   ]
  },
  {
   "cell_type": "code",
   "execution_count": 117,
   "metadata": {},
   "outputs": [
    {
     "name": "stdout",
     "output_type": "stream",
     "text": [
      "num characters:  1115394\n"
     ]
    }
   ],
   "source": [
    "print(\"num characters: \", len(text))"
   ]
  },
  {
   "cell_type": "markdown",
   "metadata": {},
   "source": [
    "### prepare data"
   ]
  },
  {
   "cell_type": "code",
   "execution_count": 118,
   "metadata": {},
   "outputs": [
    {
     "name": "stdout",
     "output_type": "stream",
     "text": [
      "First Citizen:\n",
      "Before we proceed any further, hear me speak.\n",
      "\n",
      "All:\n",
      "Speak, speak.\n",
      "\n",
      "First Citizen:\n",
      "You are all resolved rather to die than to famish?\n",
      "\n",
      "All:\n",
      "Resolved. resolved.\n",
      "\n",
      "First Citizen:\n",
      "First, you know Caius Marcius is chief enemy to the people.\n",
      "\n",
      "All:\n",
      "We know't, we know't.\n",
      "\n",
      "First Citizen:\n",
      "Let us kill him, and we'll have corn at our own price.\n",
      "Is't a verdict?\n",
      "\n",
      "All:\n",
      "No more talking on't; let it be done: away, away!\n",
      "\n",
      "Second Citizen:\n",
      "One word, good citizens.\n",
      "\n",
      "First Citizen:\n",
      "We are accounted poor citizens, the patricians good.\n",
      "What authority surfeits on would relieve us: if they\n",
      "would yield us but the superfluity, while it were\n",
      "wholesome, we might guess they relieved us humanely;\n",
      "but they think we are too dear: the leanness that\n",
      "afflicts us, the object of our misery, is as an\n",
      "inventory to particularise their abundance; our\n",
      "sufferance is a gain to them Let us revenge this with\n",
      "our pikes, ere we become rakes: for the gods know I\n",
      "speak this in hunger for bread, not in thirst for revenge.\n",
      "\n",
      "\n"
     ]
    }
   ],
   "source": [
    "print(text[:1000])"
   ]
  },
  {
   "cell_type": "code",
   "execution_count": 119,
   "metadata": {},
   "outputs": [
    {
     "name": "stdout",
     "output_type": "stream",
     "text": [
      "\n",
      " !$&',-.3:;?ABCDEFGHIJKLMNOPQRSTUVWXYZabcdefghijklmnopqrstuvwxyz\n",
      "65\n"
     ]
    }
   ],
   "source": [
    "#all the unique chars in the text \n",
    "chars = sorted(list(set(text)))\n",
    "vocab_size = len(chars)\n",
    "print(''.join(chars))\n",
    "print(vocab_size)"
   ]
  },
  {
   "cell_type": "code",
   "execution_count": 120,
   "metadata": {},
   "outputs": [
    {
     "name": "stdout",
     "output_type": "stream",
     "text": [
      "[46, 43, 50, 50, 53]\n",
      "hello\n",
      "[46, 43, 50, 50, 53]\n",
      "hello\n"
     ]
    }
   ],
   "source": [
    "#tokenizer - map chars to int\n",
    "#2 implementations of each to help understand dict comprehension and lambdas\n",
    "\n",
    "#create encode map\n",
    "encode_map_ = {chars:ints for ints, chars in enumerate(chars)}\n",
    "\n",
    "encode_map = dict()\n",
    "for ints, char in enumerate(chars):\n",
    "    encode_map[char] = ints\n",
    "\n",
    "#create decode map\n",
    "decode_map_ = {ints:chars for ints, chars in enumerate(chars)}\n",
    "\n",
    "decode_map = dict()\n",
    "for ints, char in enumerate(chars):\n",
    "    decode_map[ints] = char\n",
    "\n",
    "#create encoder func\n",
    "encode = lambda string: [encode_map_[chars] for chars in string]\n",
    "\n",
    "def encode_tokens(string):\n",
    "    encoded = []\n",
    "    for chars in string:\n",
    "        encoded.append(encode_map[chars])\n",
    "    return encoded\n",
    "\n",
    "#create decoder func\n",
    "decode = lambda list: ''.join([decode_map_[ints] for ints in list])\n",
    "\n",
    "def decode_tokens(list):\n",
    "    string = \"\"\n",
    "    for ints in list:\n",
    "        string = string + (decode_map[ints])\n",
    "    return string\n",
    "\n",
    "#my methods\n",
    "print(encode_tokens('hello'))\n",
    "print(decode_tokens(encode_tokens(\"hello\")))\n",
    "\n",
    "#tutorial methods\n",
    "print(encode('hello'))\n",
    "print(decode(encode('hello')))"
   ]
  },
  {
   "cell_type": "code",
   "execution_count": 121,
   "metadata": {},
   "outputs": [
    {
     "name": "stdout",
     "output_type": "stream",
     "text": [
      "torch.Size([1115394]) torch.int64\n",
      "tensor([18, 47, 56, 57, 58,  1, 15, 47, 58, 47, 64, 43, 52, 10,  0, 14, 43, 44,\n",
      "        53, 56, 43,  1, 61, 43,  1, 54, 56, 53, 41, 43, 43, 42,  1, 39, 52, 63,\n",
      "         1, 44, 59, 56, 58, 46, 43, 56,  6,  1, 46, 43, 39, 56,  1, 51, 43,  1,\n",
      "        57, 54, 43, 39, 49,  8,  0,  0, 13, 50, 50, 10,  0, 31, 54, 43, 39, 49,\n",
      "         6,  1, 57, 54, 43, 39, 49,  8,  0,  0, 18, 47, 56, 57, 58,  1, 15, 47,\n",
      "        58, 47, 64, 43, 52, 10,  0, 37, 53, 59])\n"
     ]
    }
   ],
   "source": [
    "#encode entire dataset and store in tensor\n",
    "data = torch.tensor(encode_tokens(text), dtype=torch.long)\n",
    "print(data.shape, data.dtype)\n",
    "print(data[:100])"
   ]
  },
  {
   "cell_type": "code",
   "execution_count": 122,
   "metadata": {},
   "outputs": [],
   "source": [
    "#create test/train split\n",
    "n = int(0.9 * len(data))\n",
    "train_data = data[:n]\n",
    "test_data = data[n:]"
   ]
  },
  {
   "cell_type": "code",
   "execution_count": 123,
   "metadata": {},
   "outputs": [
    {
     "name": "stdout",
     "output_type": "stream",
     "text": [
      "tensor([18, 47, 56, 57, 58,  1, 15, 47, 58])\n",
      "when input is tensor([18]), target is: 47\n",
      "when input is tensor([18, 47]), target is: 56\n",
      "when input is tensor([18, 47, 56]), target is: 57\n",
      "when input is tensor([18, 47, 56, 57]), target is: 58\n",
      "when input is tensor([18, 47, 56, 57, 58]), target is: 1\n",
      "when input is tensor([18, 47, 56, 57, 58,  1]), target is: 15\n",
      "when input is tensor([18, 47, 56, 57, 58,  1, 15]), target is: 47\n",
      "when input is tensor([18, 47, 56, 57, 58,  1, 15, 47]), target is: 58\n"
     ]
    }
   ],
   "source": [
    "#split data into blocks for training\n",
    "\n",
    "#when training, network will look at its target, and use values from before it in the block\n",
    "#to train.\n",
    "#from block[1] training block[1 + 1], to block[1->blocksize] training block[blocksize + 1]\n",
    "#\n",
    "#will help the network learn to predict from seeing a single character, to a entire block\n",
    "#\n",
    "block_size = 8\n",
    "print(train_data[:block_size+1])\n",
    "x = train_data[:block_size]\n",
    "y = train_data[1:block_size + 1]\n",
    "for t in range(block_size):\n",
    "    context = x[:t + 1]\n",
    "    target = y[t]\n",
    "    print(f\"when input is {context}, target is: {target}\")"
   ]
  },
  {
   "cell_type": "code",
   "execution_count": 124,
   "metadata": {},
   "outputs": [
    {
     "name": "stdout",
     "output_type": "stream",
     "text": [
      "inputs:\n",
      "torch.Size([4, 8])\n",
      "tensor([[43, 52, 42, 47, 52, 45,  1, 53],\n",
      "        [24, 21, 26, 19, 14, 30, 27, 23],\n",
      "        [44, 43,  8,  0,  0, 28, 13, 30],\n",
      "        [56, 43, 39, 58,  1, 58, 46, 43]])\n",
      "\n",
      "targets:\n",
      "torch.Size([4, 8])\n",
      "tensor([[52, 42, 47, 52, 45,  1, 53, 60],\n",
      "        [21, 26, 19, 14, 30, 27, 23, 17],\n",
      "        [43,  8,  0,  0, 28, 13, 30, 21],\n",
      "        [43, 39, 58,  1, 58, 46, 43,  1]])\n",
      "-------\n"
     ]
    }
   ],
   "source": [
    "torch.manual_seed(0xFACEBEEF)\n",
    "\n",
    "batch_size = 4      #how many different sequences to process at the same time\n",
    "block_size = 8      #how many characters for max context length\n",
    "\n",
    "def get_batch(split):\n",
    "    data = train_data if split == 'train' else test_data\n",
    "\n",
    "    #ix will generate a tensor of size (batch_size), and will fill it with random numbers\n",
    "    #from 0 to the len(data) - blocksize\n",
    "    ix = torch.randint(len(data) - block_size, (batch_size,))\n",
    "\n",
    "    #creates a stack of tensors, from the random position in ix to the random position + blocksize\n",
    "    x = torch.stack([data[i : i + block_size] for i in ix])\n",
    "\n",
    "    #same as x but offset by 1\n",
    "    y = torch.stack([data[i + 1 : i + block_size + 1] for i in ix])\n",
    "    return x,y\n",
    "\n",
    "xb, yb = get_batch('train')\n",
    "print('inputs:')\n",
    "print(xb.shape)\n",
    "print(xb)\n",
    "print('\\ntargets:')\n",
    "print(yb.shape)\n",
    "print(yb)\n",
    "\n",
    "print(\"-------\")\n",
    "\n",
    "#for b in range(batch_size):\n",
    "#    for t in range(block_size):\n",
    "#        context = xb[b, : t + 1]\n",
    "#        target = yb[b , t]\n",
    "#        print(f'when input is: {context.tolist()} target is: {target}')\n",
    "    "
   ]
  },
  {
   "cell_type": "code",
   "execution_count": 125,
   "metadata": {},
   "outputs": [
    {
     "name": "stdout",
     "output_type": "stream",
     "text": [
      "tensor([[43, 52, 42, 47, 52, 45,  1, 53],\n",
      "        [24, 21, 26, 19, 14, 30, 27, 23],\n",
      "        [44, 43,  8,  0,  0, 28, 13, 30],\n",
      "        [56, 43, 39, 58,  1, 58, 46, 43]])\n"
     ]
    }
   ],
   "source": [
    "print(xb) #input to the model"
   ]
  },
  {
   "cell_type": "markdown",
   "metadata": {},
   "source": [
    "### bigram"
   ]
  },
  {
   "cell_type": "code",
   "execution_count": 126,
   "metadata": {},
   "outputs": [
    {
     "name": "stdout",
     "output_type": "stream",
     "text": [
      "torch.Size([32, 65]) tensor(4.5034, grad_fn=<NllLossBackward0>)\n",
      "\n",
      "bvAFFePCm:3sXx&uk3Djk3Epx&N;:'e:'xwC$Dx:;VfAuFElCbmX\n",
      "QQo&y-&,$jM\n",
      "Q'eDhnYS:,TUi!YB,nImVkzO'Wh?HFdj&u-\n"
     ]
    }
   ],
   "source": [
    "class BigramModel(nn.Module):\n",
    "\n",
    "    def __init__(self, vocab_size):\n",
    "        super().__init__()\n",
    "        self.token_embedding_table = nn.Embedding(vocab_size, vocab_size)\n",
    "\n",
    "    def forward(self, idx, targets=None):\n",
    "        logits = self.token_embedding_table(idx)\n",
    "        if targets == None:\n",
    "            loss = None\n",
    "        else:\n",
    "            B, T, C = logits.shape\n",
    "            logits = logits.view(B*T, C)\n",
    "            targets = targets.view(B*T)\n",
    "            loss = F.cross_entropy(logits, targets)\n",
    "        return logits, loss\n",
    "\n",
    "    def generate(self, idx, max_new_tokens):\n",
    "        for _ in range(max_new_tokens):\n",
    "            logits, loss = self(idx)\n",
    "            logits = logits[:, -1, :]\n",
    "            probs = F.softmax(logits, dim=1)\n",
    "            idx_next = torch.multinomial(probs, num_samples=1)\n",
    "            idx = torch.cat((idx, idx_next), dim=1)\n",
    "        return idx\n",
    "\n",
    "model01 = BigramModel(vocab_size)\n",
    "out, loss = model01(xb, yb)\n",
    "print(out.shape, loss)\n",
    "print(decode(model01.generate(torch.zeros((1, 1), dtype=torch.long), max_new_tokens=100)[0].tolist()))"
   ]
  },
  {
   "cell_type": "code",
   "execution_count": 127,
   "metadata": {},
   "outputs": [],
   "source": [
    "optimizer = torch.optim.AdamW(model01.parameters(), lr=1e-3)\n",
    "eval_iters = 10\n",
    "eval_interval = 100"
   ]
  },
  {
   "cell_type": "code",
   "execution_count": 128,
   "metadata": {},
   "outputs": [],
   "source": [
    "@torch.no_grad()\n",
    "def estimate_loss():\n",
    "    out = {}\n",
    "    model01.eval()\n",
    "    for split in ['train', 'val']:\n",
    "        losses = torch.zeros(eval_iters)\n",
    "        for k in range(eval_iters):\n",
    "            X, Y = get_batch(split)\n",
    "            logits, loss = model01(X, Y)\n",
    "            losses[k] = loss.item()\n",
    "        out[split] = losses.mean()\n",
    "    model01.train()\n",
    "    return out"
   ]
  },
  {
   "cell_type": "code",
   "execution_count": 129,
   "metadata": {},
   "outputs": [
    {
     "name": "stdout",
     "output_type": "stream",
     "text": [
      "step 0 | train loss: 4.7108 | val loss: 4.6691\n",
      "step 100 | train loss: 4.5604 | val loss: 4.5531\n",
      "step 200 | train loss: 4.4417 | val loss: 4.4536\n",
      "step 300 | train loss: 4.3091 | val loss: 4.3401\n",
      "step 400 | train loss: 4.2598 | val loss: 4.2500\n",
      "step 500 | train loss: 4.1444 | val loss: 4.1341\n",
      "step 600 | train loss: 4.0503 | val loss: 4.0233\n",
      "step 700 | train loss: 3.9317 | val loss: 3.9665\n",
      "step 800 | train loss: 3.8632 | val loss: 3.8562\n",
      "step 900 | train loss: 3.7689 | val loss: 3.7939\n",
      "3.7517435550689697\n"
     ]
    }
   ],
   "source": [
    "batch_size = 32\n",
    "for steps in range(1000):\n",
    "\n",
    "    if steps % eval_interval == 0:\n",
    "        losses = estimate_loss()\n",
    "        print(f'step {steps} | train loss: {losses[\"train\"]:.4f} | val loss: {losses[\"val\"]:.4f}')\n",
    "\n",
    "    xb, yb = get_batch('train')\n",
    "\n",
    "    logits, loss = model01(xb, yb)\n",
    "    optimizer.zero_grad(set_to_none=True)\n",
    "    loss.backward()\n",
    "    optimizer.step()\n",
    "\n",
    "print(loss.item())"
   ]
  },
  {
   "cell_type": "code",
   "execution_count": 130,
   "metadata": {},
   "outputs": [
    {
     "name": "stdout",
     "output_type": "stream",
     "text": [
      "\n",
      ":yiwnl:xSWbyMKIg.LYjDPrvjMyU !KJ&hilloF.!GKOEHEfS-lkknjZnMJBSpGwPaZhfX,IS\n",
      "'whfAh?;wTo i?& t afLastJ3\n"
     ]
    }
   ],
   "source": [
    "print(decode(model01.generate(torch.zeros((1, 1), dtype=torch.long), max_new_tokens=100)[0].tolist()))"
   ]
  },
  {
   "attachments": {},
   "cell_type": "markdown",
   "metadata": {},
   "source": [
    "### Attention"
   ]
  },
  {
   "cell_type": "code",
   "execution_count": 131,
   "metadata": {},
   "outputs": [
    {
     "data": {
      "text/plain": [
       "torch.Size([4, 8, 32])"
      ]
     },
     "execution_count": 131,
     "metadata": {},
     "output_type": "execute_result"
    }
   ],
   "source": [
    "# toy example\n",
    "\n",
    "B, T, C = 4, 8, 32\n",
    "x = torch.randn(B, T, C)\n",
    "x.shape"
   ]
  },
  {
   "cell_type": "code",
   "execution_count": 132,
   "metadata": {},
   "outputs": [],
   "source": [
    "xbow = torch.zeros((B, T, C))\n",
    "for b in range(B):\n",
    "    for t in range(T):\n",
    "        xprev = x[b,:t+1]\n",
    "        xbow[b, t] = torch.mean(xprev, 0)"
   ]
  },
  {
   "cell_type": "code",
   "execution_count": 133,
   "metadata": {},
   "outputs": [
    {
     "data": {
      "text/plain": [
       "False"
      ]
     },
     "execution_count": 133,
     "metadata": {},
     "output_type": "execute_result"
    }
   ],
   "source": [
    "wei = torch.tril(torch.ones(T, T))\n",
    "wei = wei / wei.sum(1, keepdims=True)\n",
    "xbow2 = wei @ x\n",
    "torch.allclose(xbow, xbow2)"
   ]
  },
  {
   "cell_type": "code",
   "execution_count": 134,
   "metadata": {},
   "outputs": [
    {
     "data": {
      "text/plain": [
       "(torch.Size([4, 8, 16]),\n",
       " tensor([[-3.8507e-01, -4.1371e-01,  2.3993e-01,  2.1200e-01,  1.9149e-01,\n",
       "           9.2295e-01,  4.8035e-01, -7.1822e-01, -4.8912e-01, -6.1535e-01,\n",
       "           5.2770e-01, -7.3750e-01,  5.5987e-05, -1.3078e-01,  4.7475e-01,\n",
       "           3.9907e-01],\n",
       "         [-1.3457e-01, -5.5567e-01, -1.0064e-02,  5.5882e-02,  1.2466e-01,\n",
       "           8.7611e-01,  2.9055e-01, -5.8532e-01, -1.7309e-01, -8.0741e-01,\n",
       "           1.8683e-01, -5.0533e-01, -1.9559e-03,  9.3069e-02,  3.9076e-01,\n",
       "           4.9491e-01],\n",
       "         [-6.8037e-02, -1.0151e+00,  1.4793e-03,  1.2792e-02,  3.8304e-01,\n",
       "           8.1237e-01,  1.8796e-01, -1.5300e-01, -2.3513e-01, -8.3680e-01,\n",
       "          -2.2287e-01, -7.3297e-01,  3.2697e-02,  1.4057e-01,  3.9681e-02,\n",
       "           1.5410e-01],\n",
       "         [ 4.2888e-02, -8.4942e-01, -1.9647e-02, -2.7864e-01,  3.0755e-01,\n",
       "           6.7606e-01, -3.6966e-02,  2.0144e-01, -1.7553e-01, -7.5567e-01,\n",
       "          -3.2273e-01, -3.2540e-01,  1.7647e-01,  3.7832e-02, -1.7450e-01,\n",
       "           3.4569e-01],\n",
       "         [ 1.3805e-01, -8.0229e-01, -1.9179e-01, -2.8515e-01,  2.3051e-01,\n",
       "           6.5771e-01, -4.5502e-02,  1.5838e-01, -2.0535e-02, -7.2947e-01,\n",
       "          -4.0377e-01, -2.0616e-01,  1.9279e-01,  9.6963e-02, -9.7274e-02,\n",
       "           3.5160e-01],\n",
       "         [ 3.1584e-01, -5.0649e-01, -4.4978e-01, -2.5224e-01,  8.0130e-02,\n",
       "           3.8467e-01, -2.3874e-01,  1.2114e-01,  1.3170e-01, -4.7849e-01,\n",
       "          -4.3717e-01,  9.8504e-02,  1.6031e-01,  1.4297e-01, -7.1281e-02,\n",
       "           3.6370e-01],\n",
       "         [ 1.3828e-01, -2.3857e-01, -3.7395e-01,  5.3475e-02, -1.6726e-02,\n",
       "           1.6036e-01, -2.7938e-01, -1.6663e-01,  1.5369e-01, -2.8067e-01,\n",
       "          -9.5393e-02, -1.9355e-01,  1.1311e-03, -3.4520e-02, -6.7001e-02,\n",
       "           4.1395e-01],\n",
       "         [ 8.1540e-02,  2.2220e-02, -2.2549e-01,  3.8047e-02, -3.6969e-02,\n",
       "           6.4224e-02, -1.5558e-01, -1.5446e-01,  1.8917e-01, -1.8299e-01,\n",
       "           1.5892e-01, -1.6901e-01, -1.1917e-01,  5.6956e-02, -4.6517e-02,\n",
       "           4.1436e-01]], grad_fn=<SelectBackward0>))"
      ]
     },
     "execution_count": 134,
     "metadata": {},
     "output_type": "execute_result"
    }
   ],
   "source": [
    "head_size = 16\n",
    "key = nn.Linear(C, head_size, bias=False)\n",
    "query = nn.Linear(C, head_size, bias=False)\n",
    "value = nn.Linear(C, head_size, bias=False)\n",
    "\n",
    "k = key(x)\n",
    "q = query(x)\n",
    "\n",
    "wei = q @ k.transpose(-2, -1) * head_size** -0.5\n",
    "\n",
    "tril = torch.tril(torch.ones(T, T))\n",
    "wei = wei.masked_fill(tril == 0, float('-inf'))\n",
    "wei = F.softmax(wei, dim=-1)\n",
    "\n",
    "v = value(x)\n",
    "out = wei @ v\n",
    "out.shape, out[0]"
   ]
  },
  {
   "cell_type": "code",
   "execution_count": 184,
   "metadata": {},
   "outputs": [],
   "source": [
    "# hyperparameters\n",
    "batch_size = 16 # how many independent sequences will we process in parallel?\n",
    "block_size = 32 # what is the maximum context length for predictions?\n",
    "max_iters = 5000\n",
    "eval_interval = 100\n",
    "learning_rate = 1e-3\n",
    "device = 'cuda' if torch.cuda.is_available() else 'cpu'\n",
    "eval_iters = 200\n",
    "n_embd = 64\n",
    "n_head = 4\n",
    "n_layer = 4\n",
    "dropout = 0.0"
   ]
  },
  {
   "cell_type": "code",
   "execution_count": 185,
   "metadata": {},
   "outputs": [],
   "source": [
    "class Head(nn.Module):\n",
    "    \"\"\" one head of self-attention \"\"\"\n",
    "\n",
    "    def __init__(self, head_size):\n",
    "        super().__init__()\n",
    "        self.key = nn.Linear(n_embd, head_size, bias=False)\n",
    "        self.query = nn.Linear(n_embd, head_size, bias=False)\n",
    "        self.value = nn.Linear(n_embd, head_size, bias=False)\n",
    "        self.register_buffer('tril', torch.tril(torch.ones(block_size, block_size)))\n",
    "\n",
    "        self.dropout = nn.Dropout(dropout)\n",
    "\n",
    "    def forward(self, x):\n",
    "        B,T,C = x.shape\n",
    "        k = self.key(x)   # (B,T,C)\n",
    "        q = self.query(x) # (B,T,C)\n",
    "        # compute attention scores (\"affinities\")\n",
    "        wei = q @ k.transpose(-2,-1) * C**-0.5 # (B, T, C) @ (B, C, T) -> (B, T, T)\n",
    "        wei = wei.masked_fill(self.tril[:T, :T] == 0, float('-inf')) # (B, T, T)\n",
    "        wei = F.softmax(wei, dim=-1) # (B, T, T)\n",
    "        wei = self.dropout(wei)\n",
    "        # perform the weighted aggregation of the values\n",
    "        v = self.value(x) # (B,T,C)\n",
    "        out = wei @ v # (B, T, T) @ (B, T, C) -> (B, T, C)\n",
    "        return out"
   ]
  },
  {
   "cell_type": "code",
   "execution_count": 186,
   "metadata": {},
   "outputs": [],
   "source": [
    "class MultiHeadAttention(nn.Module):\n",
    "    \"\"\" multiple heads of self-attention in parallel \"\"\"\n",
    "\n",
    "    def __init__(self, num_heads, head_size):\n",
    "        super().__init__()\n",
    "        self.heads = nn.ModuleList([Head(head_size) for _ in range(num_heads)])\n",
    "        self.proj = nn.Linear(n_embd, n_embd)\n",
    "        self.dropout = nn.Dropout(dropout)\n",
    "\n",
    "    def forward(self, x):\n",
    "        out = torch.cat([h(x) for h in self.heads], dim=-1)\n",
    "        out = self.dropout(self.proj(out))\n",
    "        return out"
   ]
  },
  {
   "cell_type": "code",
   "execution_count": 187,
   "metadata": {},
   "outputs": [],
   "source": [
    "class FeedForward(nn.Module):\n",
    "    \"\"\" a simple linear layer followed by a non-linearity \"\"\"\n",
    "\n",
    "    def __init__(self, n_embd):\n",
    "        super().__init__()\n",
    "        self.net = nn.Sequential(\n",
    "            nn.Linear(n_embd, 4 * n_embd),\n",
    "            nn.ReLU(),\n",
    "            nn.Linear(4 * n_embd, n_embd),\n",
    "            nn.Dropout(dropout),\n",
    "        )\n",
    "\n",
    "    def forward(self, x):\n",
    "        return self.net(x)"
   ]
  },
  {
   "cell_type": "code",
   "execution_count": 188,
   "metadata": {},
   "outputs": [],
   "source": [
    "class Block(nn.Module):\n",
    "    \"\"\" Transformer block: communication followed by computation \"\"\"\n",
    "\n",
    "    def __init__(self, n_embd, n_head):\n",
    "        # n_embd: embedding dimension, n_head: the number of heads we'd like\n",
    "        super().__init__()\n",
    "        head_size = n_embd // n_head\n",
    "        self.sa = MultiHeadAttention(n_head, head_size)\n",
    "        self.ffwd = FeedForward(n_embd)\n",
    "        self.ln1 = nn.LayerNorm(n_embd)\n",
    "        self.ln2 = nn.LayerNorm(n_embd)\n",
    "\n",
    "    def forward(self, x):\n",
    "        x = x + self.sa(self.ln1(x))\n",
    "        x = x + self.ffwd(self.ln2(x))\n",
    "        return x"
   ]
  },
  {
   "cell_type": "code",
   "execution_count": 189,
   "metadata": {},
   "outputs": [
    {
     "name": "stdout",
     "output_type": "stream",
     "text": [
      "0.209729 M parameters\n"
     ]
    }
   ],
   "source": [
    "# super simple bigram model\n",
    "class BigramLanguageModel(nn.Module):\n",
    "\n",
    "    def __init__(self):\n",
    "        super().__init__()\n",
    "        # each token directly reads off the logits for the next token from a lookup table\n",
    "        self.token_embedding_table = nn.Embedding(vocab_size, n_embd)\n",
    "        self.position_embedding_table = nn.Embedding(block_size, n_embd)\n",
    "        self.blocks = nn.Sequential(*[Block(n_embd, n_head=n_head) for _ in range(n_layer)])\n",
    "        self.ln_f = nn.LayerNorm(n_embd) # final layer norm\n",
    "        self.lm_head = nn.Linear(n_embd, vocab_size)\n",
    "\n",
    "    def forward(self, idx, targets=None):\n",
    "        B, T = idx.shape\n",
    "\n",
    "        # idx and targets are both (B,T) tensor of integers\n",
    "        tok_emb = self.token_embedding_table(idx) # (B,T,C)\n",
    "        pos_emb = self.position_embedding_table(torch.arange(T, device=device)) # (T,C)\n",
    "        x = tok_emb + pos_emb # (B,T,C)\n",
    "        x = self.blocks(x) # (B,T,C)\n",
    "        x = self.ln_f(x) # (B,T,C)\n",
    "        logits = self.lm_head(x) # (B,T,vocab_size)\n",
    "\n",
    "        if targets is None:\n",
    "            loss = None\n",
    "        else:\n",
    "            B, T, C = logits.shape\n",
    "            logits = logits.view(B*T, C)\n",
    "            targets = targets.view(B*T)\n",
    "            loss = F.cross_entropy(logits, targets)\n",
    "\n",
    "        return logits, loss\n",
    "\n",
    "    def generate(self, idx, max_new_tokens):\n",
    "        # idx is (B, T) array of indices in the current context\n",
    "        for _ in range(max_new_tokens):\n",
    "            # crop idx to the last block_size tokens\n",
    "            idx_cond = idx[:, -block_size:]\n",
    "            # get the predictions\n",
    "            logits, loss = self(idx_cond)\n",
    "            # focus only on the last time step\n",
    "            logits = logits[:, -1, :] # becomes (B, C)\n",
    "            # apply softmax to get probabilities\n",
    "            probs = F.softmax(logits, dim=-1) # (B, C)\n",
    "            # sample from the distribution\n",
    "            idx_next = torch.multinomial(probs, num_samples=1) # (B, 1)\n",
    "            # append sampled index to the running sequence\n",
    "            idx = torch.cat((idx, idx_next), dim=1) # (B, T+1)\n",
    "        return idx\n",
    "\n",
    "model = BigramLanguageModel()\n",
    "m = model.to(device)\n",
    "# print the number of parameters in the model\n",
    "print(sum(p.numel() for p in m.parameters())/1e6, 'M parameters')"
   ]
  },
  {
   "cell_type": "code",
   "execution_count": 190,
   "metadata": {},
   "outputs": [],
   "source": [
    "@torch.no_grad()\n",
    "def estimate_loss():\n",
    "    out = {}\n",
    "    model.eval()\n",
    "    for split in ['train', 'val']:\n",
    "        losses = torch.zeros(eval_iters)\n",
    "        for k in range(eval_iters):\n",
    "            X, Y = get_batch(split)\n",
    "            logits, loss = model(X, Y)\n",
    "            losses[k] = loss.item()\n",
    "        out[split] = losses.mean()\n",
    "    model.train()\n",
    "    return out"
   ]
  },
  {
   "cell_type": "code",
   "execution_count": 191,
   "metadata": {},
   "outputs": [],
   "source": [
    "optimizer = torch.optim.AdamW(model.parameters(), lr=learning_rate)"
   ]
  },
  {
   "cell_type": "code",
   "execution_count": 192,
   "metadata": {},
   "outputs": [
    {
     "name": "stdout",
     "output_type": "stream",
     "text": [
      "step 0: train loss 4.3375, val loss 4.3469\n",
      "step 100: train loss 2.6554, val loss 2.6628\n",
      "step 200: train loss 2.4975, val loss 2.5113\n",
      "step 300: train loss 2.4042, val loss 2.4127\n",
      "step 400: train loss 2.3472, val loss 2.3597\n",
      "step 500: train loss 2.2806, val loss 2.2848\n",
      "step 600: train loss 2.2352, val loss 2.2405\n",
      "step 700: train loss 2.1907, val loss 2.2208\n",
      "step 800: train loss 2.1532, val loss 2.1795\n",
      "step 900: train loss 2.1092, val loss 2.1423\n",
      "step 1000: train loss 2.0744, val loss 2.1187\n",
      "step 1100: train loss 2.0523, val loss 2.1033\n",
      "step 1200: train loss 2.0280, val loss 2.0802\n",
      "step 1300: train loss 1.9962, val loss 2.0572\n",
      "step 1400: train loss 1.9735, val loss 2.0446\n",
      "step 1500: train loss 1.9454, val loss 2.0226\n",
      "step 1600: train loss 1.9348, val loss 2.0044\n",
      "step 1700: train loss 1.9124, val loss 2.0071\n",
      "step 1800: train loss 1.9087, val loss 2.0013\n",
      "step 1900: train loss 1.8815, val loss 1.9762\n",
      "step 2000: train loss 1.8696, val loss 1.9603\n",
      "step 2100: train loss 1.8490, val loss 1.9497\n",
      "step 2200: train loss 1.8430, val loss 1.9692\n",
      "step 2300: train loss 1.8430, val loss 1.9529\n",
      "step 2400: train loss 1.8210, val loss 1.9280\n",
      "step 2500: train loss 1.8126, val loss 1.9185\n",
      "step 2600: train loss 1.7951, val loss 1.9244\n",
      "step 2700: train loss 1.7815, val loss 1.8985\n",
      "step 2800: train loss 1.7715, val loss 1.9113\n",
      "step 2900: train loss 1.7746, val loss 1.8959\n",
      "step 3000: train loss 1.7560, val loss 1.8939\n",
      "step 3100: train loss 1.7521, val loss 1.8936\n",
      "step 3200: train loss 1.7468, val loss 1.8713\n",
      "step 3300: train loss 1.7450, val loss 1.8608\n",
      "step 3400: train loss 1.7251, val loss 1.8593\n",
      "step 3500: train loss 1.7234, val loss 1.8618\n",
      "step 3600: train loss 1.7210, val loss 1.8633\n",
      "step 3700: train loss 1.7220, val loss 1.8686\n",
      "step 3800: train loss 1.7126, val loss 1.8531\n",
      "step 3900: train loss 1.7129, val loss 1.8585\n",
      "step 4000: train loss 1.6948, val loss 1.8483\n",
      "step 4100: train loss 1.7025, val loss 1.8384\n",
      "step 4200: train loss 1.6920, val loss 1.8446\n",
      "step 4300: train loss 1.6802, val loss 1.8362\n",
      "step 4400: train loss 1.6817, val loss 1.8402\n",
      "step 4500: train loss 1.6655, val loss 1.8358\n",
      "step 4600: train loss 1.6741, val loss 1.8312\n",
      "step 4700: train loss 1.6678, val loss 1.8248\n",
      "step 4800: train loss 1.6597, val loss 1.8234\n",
      "step 4900: train loss 1.6628, val loss 1.8168\n",
      "step 4999: train loss 1.6550, val loss 1.8042\n"
     ]
    }
   ],
   "source": [
    "for iter in range(max_iters):\n",
    "\n",
    "    # every once in a while evaluate the loss on train and val sets\n",
    "    if iter % eval_interval == 0 or iter == max_iters - 1:\n",
    "        losses = estimate_loss()\n",
    "        print(f\"step {iter}: train loss {losses['train']:.4f}, val loss {losses['val']:.4f}\")\n",
    "\n",
    "    # sample a batch of data\n",
    "    xb, yb = get_batch('train')\n",
    "\n",
    "    # evaluate the loss\n",
    "    logits, loss = model(xb, yb)\n",
    "    optimizer.zero_grad(set_to_none=True)\n",
    "    loss.backward()\n",
    "    optimizer.step()"
   ]
  },
  {
   "cell_type": "code",
   "execution_count": 193,
   "metadata": {},
   "outputs": [
    {
     "name": "stdout",
     "output_type": "stream",
     "text": [
      "\n",
      "The chall no pitten\n",
      "I pring him; for the king thee.\n",
      "\n",
      "MARIAGELLA:\n",
      "O, had you swit a word Master-live.\n",
      "\n",
      "MENENIO:\n",
      "What missul, is a prequentled my Burdid.\n",
      "\n",
      "MEOSTININIUS:\n",
      "A, thus usurphior with some;'s cold,\n",
      "And let imect,\n",
      "To be proclecty.\n",
      "\n",
      "POMPEY:\n",
      "We therink can hrefolk oney thy sicjor,\n",
      "And yurstren anguile, if no full than 't.\n",
      "I pardun, when must depery; to brother,\n",
      "But yet how thou have hid not true I had not unptect:\n",
      "Can gone not, the do intrue, since;\n",
      "And with he will obsel:\n",
      "To atten she he! bloid a wrent, friend, and betthen twid\n",
      "The come.\n",
      "Oold come or the Dembrother your bed with ben the brother:\n",
      "Ano caul, his very for our give in your lege and now,\n",
      "A call Barke as glanded sigl\n",
      "With it halfs come; recentleem\n",
      "Of at flom him in Weltch which, come see I bears an We thou my too pratient heart,\n",
      "And friar thou flaminds of here,\n",
      "Fink by sits voltors. O conforce\n",
      "That in the grad frace exours endends now.\n",
      "\n",
      "EDWAGARD II:\n",
      "O, now tendeely volantor an steeder\n",
      "The vencust and cage; and them whate you appeticion\n",
      "To do to To famborn!\n",
      "\n",
      "KING RICHARD MARGABUCK:\n",
      "Mulance way, I comel thy, and done.\n",
      "\n",
      "GLOUCENTIO:\n",
      "Deck imple and one-ful on winger.\n",
      "\n",
      "ISABELLADIO:\n",
      "Gentling how looke, the gubEe great?\n",
      "\n",
      "LADY Bothervess:\n",
      "That counten, fie; Hanger's thy him golt eper yell and\n",
      "Your woursels that give erven in a but\n",
      "Her ribunks to hecasts me jompy owe, and,\n",
      "Greel mark't nanks thou fiest is feeteroth:\n",
      "I aas other libiting and his lame.\n",
      "\n",
      "MISTISABELLA:\n",
      "I couse.\n",
      "\n",
      "ELLOUCESTIO:\n",
      "But out my contentlent to clently\n",
      "Most wrake to suf back.\n",
      "\n",
      "ISABELLA:\n",
      "A lostlow their heart be preckweeter thou known to a\n",
      "And the keake gon deall fantlewer,\n",
      "Ourseltens as a cults treangen, bindly this itdam:\n",
      "And thus cauntermant! Would fellowerands\n",
      "The trust afther night doth his brinkle of than mise Fallop:\n",
      "Whose, they serve you a was noble.\n",
      "\n",
      "Girtunce vinolic, this by here hight it.\n",
      "\n",
      "GLOUTIO:\n",
      "Well, thy sault\n",
      "Frixe allone at to to me, here you came\n",
      "Of we patisce\n",
      "Dequatch mister the contencutians\n",
      "Woundd thy 'tweet's of burck!\n",
      "\n",
      "Th\n"
     ]
    }
   ],
   "source": [
    "context = torch.zeros((1, 1), dtype=torch.long, device=device)\n",
    "print(decode(m.generate(context, max_new_tokens=2000)[0].tolist()))"
   ]
  }
 ],
 "metadata": {
  "kernelspec": {
   "display_name": ".venv",
   "language": "python",
   "name": "python3"
  },
  "language_info": {
   "codemirror_mode": {
    "name": "ipython",
    "version": 3
   },
   "file_extension": ".py",
   "mimetype": "text/x-python",
   "name": "python",
   "nbconvert_exporter": "python",
   "pygments_lexer": "ipython3",
   "version": "3.8.14"
  },
  "orig_nbformat": 4,
  "vscode": {
   "interpreter": {
    "hash": "f7680f33249e2bfad9adf7f11d74d7980b360c49ec3077ed2774e3f5ac8d4dc5"
   }
  }
 },
 "nbformat": 4,
 "nbformat_minor": 2
}
