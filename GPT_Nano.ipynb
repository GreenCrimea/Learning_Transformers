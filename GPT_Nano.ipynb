{
 "cells": [
  {
   "attachments": {},
   "cell_type": "markdown",
   "metadata": {},
   "source": [
    "## GPT Nano"
   ]
  },
  {
   "cell_type": "code",
   "execution_count": 1,
   "metadata": {},
   "outputs": [],
   "source": [
    "#imports\n",
    "import torch\n",
    "import torch.nn as nn\n",
    "from torch.nn import functional as F"
   ]
  },
  {
   "cell_type": "code",
   "execution_count": 2,
   "metadata": {},
   "outputs": [],
   "source": [
    "#download dataset\n",
    "\n",
    "#!wget https://raw.githubusercontent.com/karpathy/char-rnn/master/data/tinyshakespeare/input.txt"
   ]
  },
  {
   "cell_type": "code",
   "execution_count": 3,
   "metadata": {},
   "outputs": [],
   "source": [
    "with open('input.txt', 'r', encoding='utf-8') as f:\n",
    "    text = f.read()"
   ]
  },
  {
   "cell_type": "code",
   "execution_count": 4,
   "metadata": {},
   "outputs": [
    {
     "name": "stdout",
     "output_type": "stream",
     "text": [
      "num characters:  1115394\n"
     ]
    }
   ],
   "source": [
    "print(\"num characters: \", len(text))"
   ]
  },
  {
   "cell_type": "markdown",
   "metadata": {},
   "source": [
    "### prepare data"
   ]
  },
  {
   "cell_type": "code",
   "execution_count": 5,
   "metadata": {},
   "outputs": [
    {
     "name": "stdout",
     "output_type": "stream",
     "text": [
      "First Citizen:\n",
      "Before we proceed any further, hear me speak.\n",
      "\n",
      "All:\n",
      "Speak, speak.\n",
      "\n",
      "First Citizen:\n",
      "You are all resolved rather to die than to famish?\n",
      "\n",
      "All:\n",
      "Resolved. resolved.\n",
      "\n",
      "First Citizen:\n",
      "First, you know Caius Marcius is chief enemy to the people.\n",
      "\n",
      "All:\n",
      "We know't, we know't.\n",
      "\n",
      "First Citizen:\n",
      "Let us kill him, and we'll have corn at our own price.\n",
      "Is't a verdict?\n",
      "\n",
      "All:\n",
      "No more talking on't; let it be done: away, away!\n",
      "\n",
      "Second Citizen:\n",
      "One word, good citizens.\n",
      "\n",
      "First Citizen:\n",
      "We are accounted poor citizens, the patricians good.\n",
      "What authority surfeits on would relieve us: if they\n",
      "would yield us but the superfluity, while it were\n",
      "wholesome, we might guess they relieved us humanely;\n",
      "but they think we are too dear: the leanness that\n",
      "afflicts us, the object of our misery, is as an\n",
      "inventory to particularise their abundance; our\n",
      "sufferance is a gain to them Let us revenge this with\n",
      "our pikes, ere we become rakes: for the gods know I\n",
      "speak this in hunger for bread, not in thirst for revenge.\n",
      "\n",
      "\n"
     ]
    }
   ],
   "source": [
    "print(text[:1000])"
   ]
  },
  {
   "cell_type": "code",
   "execution_count": 6,
   "metadata": {},
   "outputs": [
    {
     "name": "stdout",
     "output_type": "stream",
     "text": [
      "\n",
      " !$&',-.3:;?ABCDEFGHIJKLMNOPQRSTUVWXYZabcdefghijklmnopqrstuvwxyz\n",
      "65\n"
     ]
    }
   ],
   "source": [
    "#all the unique chars in the text \n",
    "chars = sorted(list(set(text)))\n",
    "vocab_size = len(chars)\n",
    "print(''.join(chars))\n",
    "print(vocab_size)"
   ]
  },
  {
   "cell_type": "code",
   "execution_count": 7,
   "metadata": {},
   "outputs": [
    {
     "name": "stdout",
     "output_type": "stream",
     "text": [
      "[46, 43, 50, 50, 53]\n",
      "hello\n",
      "[46, 43, 50, 50, 53]\n",
      "hello\n"
     ]
    }
   ],
   "source": [
    "#tokenizer - map chars to int\n",
    "#2 implementations of each to help understand dict comprehension and lambdas\n",
    "\n",
    "#create encode map\n",
    "encode_map_ = {chars:ints for ints, chars in enumerate(chars)}\n",
    "\n",
    "encode_map = dict()\n",
    "for ints, char in enumerate(chars):\n",
    "    encode_map[char] = ints\n",
    "\n",
    "#create decode map\n",
    "decode_map_ = {ints:chars for ints, chars in enumerate(chars)}\n",
    "\n",
    "decode_map = dict()\n",
    "for ints, char in enumerate(chars):\n",
    "    decode_map[ints] = char\n",
    "\n",
    "#create encoder func\n",
    "encode = lambda string: [encode_map_[chars] for chars in string]\n",
    "\n",
    "def encode_tokens(string):\n",
    "    encoded = []\n",
    "    for chars in string:\n",
    "        encoded.append(encode_map[chars])\n",
    "    return encoded\n",
    "\n",
    "#create decoder func\n",
    "decode = lambda list: ''.join([decode_map_[ints] for ints in list])\n",
    "\n",
    "def decode_tokens(list):\n",
    "    string = \"\"\n",
    "    for ints in list:\n",
    "        string = string + (decode_map[ints])\n",
    "    return string\n",
    "\n",
    "#my methods\n",
    "print(encode_tokens('hello'))\n",
    "print(decode_tokens(encode_tokens(\"hello\")))\n",
    "\n",
    "#tutorial methods\n",
    "print(encode('hello'))\n",
    "print(decode(encode('hello')))"
   ]
  },
  {
   "cell_type": "code",
   "execution_count": 8,
   "metadata": {},
   "outputs": [
    {
     "name": "stdout",
     "output_type": "stream",
     "text": [
      "torch.Size([1115394]) torch.int64\n",
      "tensor([18, 47, 56, 57, 58,  1, 15, 47, 58, 47, 64, 43, 52, 10,  0, 14, 43, 44,\n",
      "        53, 56, 43,  1, 61, 43,  1, 54, 56, 53, 41, 43, 43, 42,  1, 39, 52, 63,\n",
      "         1, 44, 59, 56, 58, 46, 43, 56,  6,  1, 46, 43, 39, 56,  1, 51, 43,  1,\n",
      "        57, 54, 43, 39, 49,  8,  0,  0, 13, 50, 50, 10,  0, 31, 54, 43, 39, 49,\n",
      "         6,  1, 57, 54, 43, 39, 49,  8,  0,  0, 18, 47, 56, 57, 58,  1, 15, 47,\n",
      "        58, 47, 64, 43, 52, 10,  0, 37, 53, 59])\n"
     ]
    }
   ],
   "source": [
    "#encode entire dataset and store in tensor\n",
    "data = torch.tensor(encode_tokens(text), dtype=torch.long)\n",
    "print(data.shape, data.dtype)\n",
    "print(data[:100])"
   ]
  },
  {
   "cell_type": "code",
   "execution_count": 9,
   "metadata": {},
   "outputs": [],
   "source": [
    "#create test/train split\n",
    "n = int(0.9 * len(data))\n",
    "train_data = data[:n]\n",
    "test_data = data[n:]"
   ]
  },
  {
   "cell_type": "code",
   "execution_count": 10,
   "metadata": {},
   "outputs": [
    {
     "name": "stdout",
     "output_type": "stream",
     "text": [
      "tensor([18, 47, 56, 57, 58,  1, 15, 47, 58])\n",
      "when input is tensor([18]), target is: 47\n",
      "when input is tensor([18, 47]), target is: 56\n",
      "when input is tensor([18, 47, 56]), target is: 57\n",
      "when input is tensor([18, 47, 56, 57]), target is: 58\n",
      "when input is tensor([18, 47, 56, 57, 58]), target is: 1\n",
      "when input is tensor([18, 47, 56, 57, 58,  1]), target is: 15\n",
      "when input is tensor([18, 47, 56, 57, 58,  1, 15]), target is: 47\n",
      "when input is tensor([18, 47, 56, 57, 58,  1, 15, 47]), target is: 58\n"
     ]
    }
   ],
   "source": [
    "#split data into blocks for training\n",
    "\n",
    "#when training, network will look at its target, and use values from before it in the block\n",
    "#to train.\n",
    "#from block[1] training block[1 + 1], to block[1->blocksize] training block[blocksize + 1]\n",
    "#\n",
    "#will help the network learn to predict from seeing a single character, to a entire block\n",
    "#\n",
    "block_size = 8\n",
    "print(train_data[:block_size+1])\n",
    "x = train_data[:block_size]\n",
    "y = train_data[1:block_size + 1]\n",
    "for t in range(block_size):\n",
    "    context = x[:t + 1]\n",
    "    target = y[t]\n",
    "    print(f\"when input is {context}, target is: {target}\")"
   ]
  },
  {
   "cell_type": "code",
   "execution_count": 11,
   "metadata": {},
   "outputs": [
    {
     "name": "stdout",
     "output_type": "stream",
     "text": [
      "inputs:\n",
      "torch.Size([4, 8])\n",
      "tensor([[43, 52, 42, 47, 52, 45,  1, 53],\n",
      "        [24, 21, 26, 19, 14, 30, 27, 23],\n",
      "        [44, 43,  8,  0,  0, 28, 13, 30],\n",
      "        [56, 43, 39, 58,  1, 58, 46, 43]])\n",
      "\n",
      "targets:\n",
      "torch.Size([4, 8])\n",
      "tensor([[52, 42, 47, 52, 45,  1, 53, 60],\n",
      "        [21, 26, 19, 14, 30, 27, 23, 17],\n",
      "        [43,  8,  0,  0, 28, 13, 30, 21],\n",
      "        [43, 39, 58,  1, 58, 46, 43,  1]])\n",
      "-------\n"
     ]
    }
   ],
   "source": [
    "torch.manual_seed(0xFACEBEEF)\n",
    "\n",
    "batch_size = 4      #how many different sequences to process at the same time\n",
    "block_size = 8      #how many characters for max context length\n",
    "\n",
    "def get_batch(split):\n",
    "    data = train_data if split == 'train' else test_data\n",
    "\n",
    "    #ix will generate a tensor of size (batch_size), and will fill it with random numbers\n",
    "    #from 0 to the len(data) - blocksize\n",
    "    ix = torch.randint(len(data) - block_size, (batch_size,))\n",
    "\n",
    "    #creates a stack of tensors, from the random position in ix to the random position + blocksize\n",
    "    x = torch.stack([data[i : i + block_size] for i in ix])\n",
    "\n",
    "    #same as x but offset by 1\n",
    "    y = torch.stack([data[i + 1 : i + block_size + 1] for i in ix])\n",
    "    return x,y\n",
    "\n",
    "xb, yb = get_batch('train')\n",
    "print('inputs:')\n",
    "print(xb.shape)\n",
    "print(xb)\n",
    "print('\\ntargets:')\n",
    "print(yb.shape)\n",
    "print(yb)\n",
    "\n",
    "print(\"-------\")\n",
    "\n",
    "#for b in range(batch_size):\n",
    "#    for t in range(block_size):\n",
    "#        context = xb[b, : t + 1]\n",
    "#        target = yb[b , t]\n",
    "#        print(f'when input is: {context.tolist()} target is: {target}')\n",
    "    "
   ]
  },
  {
   "cell_type": "code",
   "execution_count": 12,
   "metadata": {},
   "outputs": [
    {
     "name": "stdout",
     "output_type": "stream",
     "text": [
      "tensor([[43, 52, 42, 47, 52, 45,  1, 53],\n",
      "        [24, 21, 26, 19, 14, 30, 27, 23],\n",
      "        [44, 43,  8,  0,  0, 28, 13, 30],\n",
      "        [56, 43, 39, 58,  1, 58, 46, 43]])\n"
     ]
    }
   ],
   "source": [
    "print(xb) #input to the model"
   ]
  },
  {
   "cell_type": "markdown",
   "metadata": {},
   "source": [
    "### bigram"
   ]
  },
  {
   "cell_type": "code",
   "execution_count": 20,
   "metadata": {},
   "outputs": [
    {
     "name": "stdout",
     "output_type": "stream",
     "text": [
      "torch.Size([32, 65]) tensor(4.9944, grad_fn=<NllLossBackward0>)\n",
      "\n",
      "lHK:yO&zjcg;xRuMIBGTW&SqtPamGbDQnnz,g,a.tX!gsK:fOozKCKnu\n",
      "ZsCmn?aKnzF-w??jDhhF!Nw$fnhpfVh?wKOoJAgsqHc\n"
     ]
    }
   ],
   "source": [
    "class BigramModel(nn.Module):\n",
    "\n",
    "    def __init__(self, vocab_size):\n",
    "        super().__init__()\n",
    "        self.token_embedding_table = nn.Embedding(vocab_size, vocab_size)\n",
    "\n",
    "    def forward(self, idx, targets=None):\n",
    "        logits = self.token_embedding_table(idx)\n",
    "        if targets == None:\n",
    "            loss = None\n",
    "        else:\n",
    "            B, T, C = logits.shape\n",
    "            logits = logits.view(B*T, C)\n",
    "            targets = targets.view(B*T)\n",
    "            loss = F.cross_entropy(logits, targets)\n",
    "        return logits, loss\n",
    "\n",
    "    def generate(self, idx, max_new_tokens):\n",
    "        for _ in range(max_new_tokens):\n",
    "            logits, loss = self(idx)\n",
    "            logits = logits[:, -1, :]\n",
    "            probs = F.softmax(logits, dim=1)\n",
    "            idx_next = torch.multinomial(probs, num_samples=1)\n",
    "            idx = torch.cat((idx, idx_next), dim=1)\n",
    "        return idx\n",
    "\n",
    "model01 = BigramModel(vocab_size)\n",
    "out, loss = model01(xb, yb)\n",
    "print(out.shape, loss)\n",
    "print(decode(model01.generate(torch.zeros((1, 1), dtype=torch.long), max_new_tokens=100)[0].tolist()))"
   ]
  },
  {
   "cell_type": "code",
   "execution_count": 21,
   "metadata": {},
   "outputs": [],
   "source": [
    "optimizer = torch.optim.AdamW(model01.parameters(), lr=1e-3)"
   ]
  },
  {
   "cell_type": "code",
   "execution_count": 25,
   "metadata": {},
   "outputs": [
    {
     "name": "stdout",
     "output_type": "stream",
     "text": [
      "2.53452467918396\n"
     ]
    }
   ],
   "source": [
    "batch_size = 32\n",
    "for steps in range(10000):\n",
    "\n",
    "    xb, yb = get_batch('train')\n",
    "\n",
    "    logits, loss = model01(xb, yb)\n",
    "    optimizer.zero_grad(set_to_none=True)\n",
    "    loss.backward()\n",
    "    optimizer.step()\n",
    "\n",
    "print(loss.item())"
   ]
  },
  {
   "cell_type": "code",
   "execution_count": 28,
   "metadata": {},
   "outputs": [
    {
     "name": "stdout",
     "output_type": "stream",
     "text": [
      "\n",
      "\n",
      "\n",
      "Pheeroutodvea strous, sis neravo instureakiet malavenige tind RCisheyease tons rvetelo ain eet, t.\n"
     ]
    }
   ],
   "source": [
    "print(decode(model01.generate(torch.zeros((1, 1), dtype=torch.long), max_new_tokens=100)[0].tolist()))"
   ]
  },
  {
   "cell_type": "markdown",
   "metadata": {},
   "source": [
    "### a"
   ]
  },
  {
   "cell_type": "code",
   "execution_count": null,
   "metadata": {},
   "outputs": [],
   "source": []
  }
 ],
 "metadata": {
  "kernelspec": {
   "display_name": ".venv",
   "language": "python",
   "name": "python3"
  },
  "language_info": {
   "codemirror_mode": {
    "name": "ipython",
    "version": 3
   },
   "file_extension": ".py",
   "mimetype": "text/x-python",
   "name": "python",
   "nbconvert_exporter": "python",
   "pygments_lexer": "ipython3",
   "version": "3.8.14"
  },
  "orig_nbformat": 4,
  "vscode": {
   "interpreter": {
    "hash": "f7680f33249e2bfad9adf7f11d74d7980b360c49ec3077ed2774e3f5ac8d4dc5"
   }
  }
 },
 "nbformat": 4,
 "nbformat_minor": 2
}
